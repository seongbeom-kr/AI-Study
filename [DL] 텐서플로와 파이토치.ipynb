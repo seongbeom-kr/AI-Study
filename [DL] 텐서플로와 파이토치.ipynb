{
 "cells": [
  {
   "cell_type": "code",
   "execution_count": 1,
   "id": "cb2b9e68",
   "metadata": {},
   "outputs": [
    {
     "name": "stdout",
     "output_type": "stream",
     "text": [
      "Requirement already satisfied: tensorflow in /Users/limseongbeom/opt/anaconda3/envs/ml/lib/python3.10/site-packages (2.9.1)\n",
      "Requirement already satisfied: termcolor>=1.1.0 in /Users/limseongbeom/opt/anaconda3/envs/ml/lib/python3.10/site-packages (from tensorflow) (2.1.0)\n",
      "Requirement already satisfied: gast<=0.4.0,>=0.2.1 in /Users/limseongbeom/opt/anaconda3/envs/ml/lib/python3.10/site-packages (from tensorflow) (0.4.0)\n",
      "Requirement already satisfied: google-pasta>=0.1.1 in /Users/limseongbeom/opt/anaconda3/envs/ml/lib/python3.10/site-packages (from tensorflow) (0.2.0)\n",
      "Requirement already satisfied: tensorflow-estimator<2.10.0,>=2.9.0rc0 in /Users/limseongbeom/opt/anaconda3/envs/ml/lib/python3.10/site-packages (from tensorflow) (2.9.0)\n",
      "Requirement already satisfied: keras-preprocessing>=1.1.1 in /Users/limseongbeom/opt/anaconda3/envs/ml/lib/python3.10/site-packages (from tensorflow) (1.1.2)\n",
      "Requirement already satisfied: packaging in /Users/limseongbeom/opt/anaconda3/envs/ml/lib/python3.10/site-packages (from tensorflow) (21.3)\n",
      "Requirement already satisfied: six>=1.12.0 in /Users/limseongbeom/opt/anaconda3/envs/ml/lib/python3.10/site-packages (from tensorflow) (1.16.0)\n",
      "Requirement already satisfied: flatbuffers<2,>=1.12 in /Users/limseongbeom/opt/anaconda3/envs/ml/lib/python3.10/site-packages (from tensorflow) (1.12)\n",
      "Requirement already satisfied: wrapt>=1.11.0 in /Users/limseongbeom/opt/anaconda3/envs/ml/lib/python3.10/site-packages (from tensorflow) (1.14.1)\n",
      "Requirement already satisfied: typing-extensions>=3.6.6 in /Users/limseongbeom/opt/anaconda3/envs/ml/lib/python3.10/site-packages (from tensorflow) (4.4.0)\n",
      "Requirement already satisfied: opt-einsum>=2.3.2 in /Users/limseongbeom/opt/anaconda3/envs/ml/lib/python3.10/site-packages (from tensorflow) (3.3.0)\n",
      "Requirement already satisfied: protobuf<3.20,>=3.9.2 in /Users/limseongbeom/opt/anaconda3/envs/ml/lib/python3.10/site-packages (from tensorflow) (3.19.6)\n",
      "Requirement already satisfied: setuptools in /Users/limseongbeom/opt/anaconda3/envs/ml/lib/python3.10/site-packages (from tensorflow) (65.5.0)\n",
      "Requirement already satisfied: tensorboard<2.10,>=2.9 in /Users/limseongbeom/opt/anaconda3/envs/ml/lib/python3.10/site-packages (from tensorflow) (2.9.0)\n",
      "Requirement already satisfied: astunparse>=1.6.0 in /Users/limseongbeom/opt/anaconda3/envs/ml/lib/python3.10/site-packages (from tensorflow) (1.6.3)\n",
      "Requirement already satisfied: h5py>=2.9.0 in /Users/limseongbeom/opt/anaconda3/envs/ml/lib/python3.10/site-packages (from tensorflow) (3.7.0)\n",
      "Requirement already satisfied: keras<2.10.0,>=2.9.0rc0 in /Users/limseongbeom/opt/anaconda3/envs/ml/lib/python3.10/site-packages (from tensorflow) (2.9.0)\n",
      "Requirement already satisfied: numpy>=1.20 in /Users/limseongbeom/opt/anaconda3/envs/ml/lib/python3.10/site-packages (from tensorflow) (1.22.3)\n",
      "Requirement already satisfied: grpcio<2.0,>=1.24.3 in /Users/limseongbeom/opt/anaconda3/envs/ml/lib/python3.10/site-packages (from tensorflow) (1.42.0)\n",
      "Requirement already satisfied: tensorflow-io-gcs-filesystem>=0.23.1 in /Users/limseongbeom/opt/anaconda3/envs/ml/lib/python3.10/site-packages (from tensorflow) (0.29.0)\n",
      "Requirement already satisfied: libclang>=13.0.0 in /Users/limseongbeom/opt/anaconda3/envs/ml/lib/python3.10/site-packages (from tensorflow) (14.0.6)\n",
      "Requirement already satisfied: absl-py>=1.0.0 in /Users/limseongbeom/opt/anaconda3/envs/ml/lib/python3.10/site-packages (from tensorflow) (1.3.0)\n",
      "Requirement already satisfied: wheel<1.0,>=0.23.0 in /Users/limseongbeom/opt/anaconda3/envs/ml/lib/python3.10/site-packages (from astunparse>=1.6.0->tensorflow) (0.35.1)\n",
      "Requirement already satisfied: google-auth<3,>=1.6.3 in /Users/limseongbeom/opt/anaconda3/envs/ml/lib/python3.10/site-packages (from tensorboard<2.10,>=2.9->tensorflow) (2.6.0)\n",
      "Requirement already satisfied: tensorboard-plugin-wit>=1.6.0 in /Users/limseongbeom/opt/anaconda3/envs/ml/lib/python3.10/site-packages (from tensorboard<2.10,>=2.9->tensorflow) (1.6.0)\n",
      "Requirement already satisfied: tensorboard-data-server<0.7.0,>=0.6.0 in /Users/limseongbeom/opt/anaconda3/envs/ml/lib/python3.10/site-packages (from tensorboard<2.10,>=2.9->tensorflow) (0.6.1)\n",
      "Requirement already satisfied: werkzeug>=1.0.1 in /Users/limseongbeom/opt/anaconda3/envs/ml/lib/python3.10/site-packages (from tensorboard<2.10,>=2.9->tensorflow) (2.2.2)\n",
      "Requirement already satisfied: markdown>=2.6.8 in /Users/limseongbeom/opt/anaconda3/envs/ml/lib/python3.10/site-packages (from tensorboard<2.10,>=2.9->tensorflow) (3.3.4)\n",
      "Requirement already satisfied: requests<3,>=2.21.0 in /Users/limseongbeom/opt/anaconda3/envs/ml/lib/python3.10/site-packages (from tensorboard<2.10,>=2.9->tensorflow) (2.28.1)\n",
      "Requirement already satisfied: google-auth-oauthlib<0.5,>=0.4.1 in /Users/limseongbeom/opt/anaconda3/envs/ml/lib/python3.10/site-packages (from tensorboard<2.10,>=2.9->tensorflow) (0.4.4)\n",
      "Requirement already satisfied: pyparsing!=3.0.5,>=2.0.2 in /Users/limseongbeom/opt/anaconda3/envs/ml/lib/python3.10/site-packages (from packaging->tensorflow) (3.0.9)\n",
      "Requirement already satisfied: cachetools<6.0,>=2.0.0 in /Users/limseongbeom/opt/anaconda3/envs/ml/lib/python3.10/site-packages (from google-auth<3,>=1.6.3->tensorboard<2.10,>=2.9->tensorflow) (4.2.2)\n",
      "Requirement already satisfied: pyasn1-modules>=0.2.1 in /Users/limseongbeom/opt/anaconda3/envs/ml/lib/python3.10/site-packages (from google-auth<3,>=1.6.3->tensorboard<2.10,>=2.9->tensorflow) (0.2.8)\n",
      "Requirement already satisfied: rsa<5,>=3.1.4 in /Users/limseongbeom/opt/anaconda3/envs/ml/lib/python3.10/site-packages (from google-auth<3,>=1.6.3->tensorboard<2.10,>=2.9->tensorflow) (4.7.2)\n",
      "Requirement already satisfied: requests-oauthlib>=0.7.0 in /Users/limseongbeom/opt/anaconda3/envs/ml/lib/python3.10/site-packages (from google-auth-oauthlib<0.5,>=0.4.1->tensorboard<2.10,>=2.9->tensorflow) (1.3.0)\n",
      "Requirement already satisfied: urllib3<1.27,>=1.21.1 in /Users/limseongbeom/opt/anaconda3/envs/ml/lib/python3.10/site-packages (from requests<3,>=2.21.0->tensorboard<2.10,>=2.9->tensorflow) (1.26.13)\n",
      "Requirement already satisfied: charset-normalizer<3,>=2 in /Users/limseongbeom/opt/anaconda3/envs/ml/lib/python3.10/site-packages (from requests<3,>=2.21.0->tensorboard<2.10,>=2.9->tensorflow) (2.0.4)\n",
      "Requirement already satisfied: certifi>=2017.4.17 in /Users/limseongbeom/opt/anaconda3/envs/ml/lib/python3.10/site-packages (from requests<3,>=2.21.0->tensorboard<2.10,>=2.9->tensorflow) (2023.5.7)\n",
      "Requirement already satisfied: idna<4,>=2.5 in /Users/limseongbeom/opt/anaconda3/envs/ml/lib/python3.10/site-packages (from requests<3,>=2.21.0->tensorboard<2.10,>=2.9->tensorflow) (3.4)\n",
      "Requirement already satisfied: MarkupSafe>=2.1.1 in /Users/limseongbeom/opt/anaconda3/envs/ml/lib/python3.10/site-packages (from werkzeug>=1.0.1->tensorboard<2.10,>=2.9->tensorflow) (2.1.1)\n",
      "Requirement already satisfied: pyasn1<0.5.0,>=0.4.6 in /Users/limseongbeom/opt/anaconda3/envs/ml/lib/python3.10/site-packages (from pyasn1-modules>=0.2.1->google-auth<3,>=1.6.3->tensorboard<2.10,>=2.9->tensorflow) (0.4.8)\n",
      "Requirement already satisfied: oauthlib>=3.0.0 in /Users/limseongbeom/opt/anaconda3/envs/ml/lib/python3.10/site-packages (from requests-oauthlib>=0.7.0->google-auth-oauthlib<0.5,>=0.4.1->tensorboard<2.10,>=2.9->tensorflow) (3.2.1)\n"
     ]
    }
   ],
   "source": [
    "# tensorflow 설치\n",
    "!pip install tensorflow"
   ]
  },
  {
   "cell_type": "code",
   "execution_count": 3,
   "id": "db5d2a0a",
   "metadata": {},
   "outputs": [
    {
     "name": "stdout",
     "output_type": "stream",
     "text": [
      "2.9.1\n"
     ]
    }
   ],
   "source": [
    "# 텐서플로 호출 & 버전 확인\n",
    "import tensorflow as tf\n",
    "print(tf.__version__)"
   ]
  },
  {
   "cell_type": "markdown",
   "id": "d8b5ef12",
   "metadata": {},
   "source": [
    "# 텐서플로 , 텐서만들기"
   ]
  },
  {
   "cell_type": "code",
   "execution_count": 5,
   "id": "0a8ee6c2",
   "metadata": {},
   "outputs": [],
   "source": [
    "import tensorflow as tf\n",
    "import numpy as np\n",
    "np.set_printoptions(precision=3)"
   ]
  },
  {
   "cell_type": "code",
   "execution_count": 6,
   "id": "bf794486",
   "metadata": {},
   "outputs": [],
   "source": [
    "a = np.array([1,2,3], dtype = np.int32)\n",
    "b = [4,5,6]"
   ]
  },
  {
   "cell_type": "code",
   "execution_count": 7,
   "id": "9e15a253",
   "metadata": {},
   "outputs": [
    {
     "name": "stderr",
     "output_type": "stream",
     "text": [
      "2023-07-28 13:38:38.350820: I tensorflow/core/platform/cpu_feature_guard.cc:193] This TensorFlow binary is optimized with oneAPI Deep Neural Network Library (oneDNN) to use the following CPU instructions in performance-critical operations:  SSE4.1 SSE4.2\n",
      "To enable them in other operations, rebuild TensorFlow with the appropriate compiler flags.\n"
     ]
    }
   ],
   "source": [
    "t_a = tf.convert_to_tensor(a)\n",
    "t_b = tf.convert_to_tensor(b)"
   ]
  },
  {
   "cell_type": "code",
   "execution_count": 8,
   "id": "d5009936",
   "metadata": {},
   "outputs": [
    {
     "name": "stdout",
     "output_type": "stream",
     "text": [
      "tf.Tensor([1 2 3], shape=(3,), dtype=int32)\n"
     ]
    }
   ],
   "source": [
    "print(t_a)"
   ]
  },
  {
   "cell_type": "code",
   "execution_count": 9,
   "id": "69e81ba0",
   "metadata": {},
   "outputs": [
    {
     "name": "stdout",
     "output_type": "stream",
     "text": [
      "tf.Tensor([4 5 6], shape=(3,), dtype=int32)\n"
     ]
    }
   ],
   "source": [
    "print(t_b)"
   ]
  },
  {
   "cell_type": "code",
   "execution_count": null,
   "id": "204baac7",
   "metadata": {},
   "outputs": [],
   "source": [
    "# 텐서가 참조하는 값을 얻으려면 간단히 텐서의 .numpy()호출"
   ]
  }
 ],
 "metadata": {
  "kernelspec": {
   "display_name": "Python 3 (ipykernel)",
   "language": "python",
   "name": "python3"
  },
  "language_info": {
   "codemirror_mode": {
    "name": "ipython",
    "version": 3
   },
   "file_extension": ".py",
   "mimetype": "text/x-python",
   "name": "python",
   "nbconvert_exporter": "python",
   "pygments_lexer": "ipython3",
   "version": "3.10.8"
  }
 },
 "nbformat": 4,
 "nbformat_minor": 5
}
